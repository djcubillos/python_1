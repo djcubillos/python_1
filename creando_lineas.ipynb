{
 "metadata": {
  "name": ""
 },
 "nbformat": 3,
 "nbformat_minor": 0,
 "worksheets": [
  {
   "cells": [
    {
     "cell_type": "code",
     "collapsed": false,
     "input": [
      "def creartxt():\n",
      "    archi=open('datos.txt','w')\n",
      "    archi.close()\n",
      "\n",
      "def grabartxt():\n",
      "    archi=open('datos.txt','a')\n",
      "    archi.write('Linea 1\\n')\n",
      "    archi.write('Linea 2\\n')\n",
      "    archi.write('Linea 3\\n')\n",
      "    archi.close()\n",
      "    \n",
      "def leertxtenlista():\n",
      "    archi=open('datos.txt','r')\n",
      "    lineas=archi.readlines()\n",
      "    for li in lineas:\n",
      "        print li\n",
      "    archi.close()\n",
      "def enumerar():\n",
      "\tenumere=open('datos.txt')\n",
      "\tfor i, lineas in enumerate(enumere):\n",
      "\t\tif i>1:\n",
      "\t\t\tbreak\n",
      "\t\tprint \"la linea\",i,\"es:\",lineas\n",
      "\tenumere.close()\n",
      "enumerar()\n",
      "\n",
      "creartxt()\n",
      "grabartxt()\n",
      "leertxtenlista()"
     ],
     "language": "python",
     "metadata": {},
     "outputs": [
      {
       "output_type": "stream",
       "stream": "stdout",
       "text": [
        "la linea 0 es: Linea 1\n",
        "\n",
        "la linea 1 es: Linea 2\n",
        "\n",
        "Linea 1\n",
        "\n",
        "Linea 2\n",
        "\n",
        "Linea 3\n",
        "\n"
       ]
      }
     ],
     "prompt_number": 1
    },
    {
     "cell_type": "code",
     "collapsed": false,
     "input": [],
     "language": "python",
     "metadata": {},
     "outputs": [],
     "prompt_number": 1
    },
    {
     "cell_type": "code",
     "collapsed": false,
     "input": [],
     "language": "python",
     "metadata": {},
     "outputs": []
    }
   ],
   "metadata": {}
  }
 ]
}