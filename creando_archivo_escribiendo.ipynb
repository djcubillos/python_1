{
 "metadata": {
  "name": ""
 },
 "nbformat": 3,
 "nbformat_minor": 0,
 "worksheets": [
  {
   "cells": [
    {
     "cell_type": "code",
     "collapsed": false,
     "input": [
      "def creartxt():\n",
      "    archi=open('datos.txt','w')\n",
      "    archi.close()\n",
      "    \n",
      "def grabartxt():\n",
      "    archi=open('datos.txt','a')\n",
      "    archi.write('Linea 1\\n')\n",
      "    archi.write('Linea 2\\n')\n",
      "    archi.write('Linea 3\\n')\n",
      "    archi.close()\n",
      "    \n",
      "def leertxtenlista():\n",
      "    archi=open('datos.txt','r')\n",
      "    lineas=archi.readlines()\n",
      "    for li in lineas:\n",
      "        print li\n",
      "    archi.close()\n"
     ],
     "language": "python",
     "metadata": {},
     "outputs": [],
     "prompt_number": 1
    },
    {
     "cell_type": "code",
     "collapsed": false,
     "input": [
      "\n"
     ],
     "language": "python",
     "metadata": {},
     "outputs": [],
     "prompt_number": 1
    },
    {
     "cell_type": "code",
     "collapsed": false,
     "input": [],
     "language": "python",
     "metadata": {},
     "outputs": []
    }
   ],
   "metadata": {}
  }
 ]
}